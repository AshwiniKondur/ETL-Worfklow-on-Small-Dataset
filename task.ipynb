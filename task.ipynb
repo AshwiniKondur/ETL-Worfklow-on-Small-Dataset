{
 "cells": [
  {
   "cell_type": "markdown",
   "metadata": {},
   "source": [
    " <div style="padding: 0; margin: 0; line-height: 1.2;">"
    " <h1 style="margin: 0;"><b><font color='blue'>Performing ETL on Small Data</font></b></h1>"
    " <p style="margin: 0;"><b>1. Exploratory Analysis</b><br>"
    " <p style="margin: 0;"><b>2. Connecting to the Database</b><br>"
    "- Creating a New Table.</p>"
    " <p style="margin: 0;"><b>3. Collecting Data from Different Sources</b><br>"
    "- Uploading the Data from a CSV file<br>"
    "<p style="margin: 0;"><b>4. Transforming the data</b><br>"
    "<p style="margin: 0;"><b>5. Using API to Pull the Exchange Rate Data for Each Market from the Web</b><br>"
    "<p style="margin: 0;"><b>5. Updating the Table in the Database</b><br>"
    "</div>"
   ]
  },
  {
   "cell_type": "code",
   "execution_count": 11,
   "metadata": {},
   "outputs": [],
   "source": [
    "#conda update jupyter\n",
    "#%load_ext sql"
   ]
  },
  {
   "cell_type": "code",
   "execution_count": 12,
   "metadata": {},
   "outputs": [],
   "source": [
    "#pip install psycopg2\n",
    "#pip install sqlalchemy"
   ]
  },
  {
   "cell_type": "markdown",
   "metadata": {},
   "source": [
    "<font color='blue'>Connecting to Postgresql Database</font>"
   ]
  },
  {
   "cell_type": "code",
   "execution_count": 13,
   "metadata": {},
   "outputs": [],
   "source": [
    "import psycopg2\n",
    "import pandas as pd\n",
    "import sqlalchemy\n",
    "from sqlalchemy import types\n",
    "from sqlalchemy import create_engine"
   ]
  },
  {
   "cell_type": "code",
   "execution_count": 14,
   "metadata": {},
   "outputs": [],
   "source": [
    "try:\n",
    "    conn = psycopg2.connect(\"dbname='mydb' user='postgres' host='localhost' password='Ashwini@12'\")\n",
    "except:\n",
    "    print(\"Database Connection Error\")\n",
    "conn.autocommit = True\n",
    "cursor = conn.cursor()"
   ]
  },
  {
   "cell_type": "markdown",
   "metadata": {},
   "source": [
    "<font color='blue'>Loading CSV in Dataframe</font>"
   ]
  },
  {
   "cell_type": "code",
   "execution_count": 15,
   "metadata": {},
   "outputs": [],
   "source": [
    "df = pd.read_csv (r'C:\\Users\\Ashwini\\Ably\\transactions.csv')   \n"
   ]
  },
  {
   "cell_type": "code",
   "execution_count": 16,
   "metadata": {},
   "outputs": [
    {
     "data": {
      "text/html": [
       "<div>\n",
       "<style scoped>\n",
       "    .dataframe tbody tr th:only-of-type {\n",
       "        vertical-align: middle;\n",
       "    }\n",
       "\n",
       "    .dataframe tbody tr th {\n",
       "        vertical-align: top;\n",
       "    }\n",
       "\n",
       "    .dataframe thead th {\n",
       "        text-align: right;\n",
       "    }\n",
       "</style>\n",
       "<table border=\"1\" class=\"dataframe\">\n",
       "  <thead>\n",
       "    <tr style=\"text-align: right;\">\n",
       "      <th></th>\n",
       "      <th>transaction_id</th>\n",
       "      <th>user</th>\n",
       "      <th>timestamp</th>\n",
       "      <th>tz</th>\n",
       "      <th>currency</th>\n",
       "      <th>value</th>\n",
       "      <th>cleared</th>\n",
       "      <th>country</th>\n",
       "    </tr>\n",
       "  </thead>\n",
       "  <tbody>\n",
       "    <tr>\n",
       "      <th>0</th>\n",
       "      <td>4afd43a4-7833-4883-aa4f-1506cba532ce</td>\n",
       "      <td>47735</td>\n",
       "      <td>2/2/2022</td>\n",
       "      <td>Europe/Paris</td>\n",
       "      <td>USD</td>\n",
       "      <td>4999.8415</td>\n",
       "      <td>False</td>\n",
       "      <td>Canada</td>\n",
       "    </tr>\n",
       "    <tr>\n",
       "      <th>1</th>\n",
       "      <td>1777cfe1-0ab7-4c57-94f7-99c58d8a419c</td>\n",
       "      <td>76257</td>\n",
       "      <td>1/11/2022</td>\n",
       "      <td>Europe/Paris</td>\n",
       "      <td>GBP</td>\n",
       "      <td>3062.9059</td>\n",
       "      <td>False</td>\n",
       "      <td>Canada</td>\n",
       "    </tr>\n",
       "    <tr>\n",
       "      <th>2</th>\n",
       "      <td>f19e7c82-7b90-401d-a6af-fef1a7ecfbe7</td>\n",
       "      <td>30358</td>\n",
       "      <td>1/11/2022</td>\n",
       "      <td>US/Pacific</td>\n",
       "      <td>USD</td>\n",
       "      <td>3130.5393</td>\n",
       "      <td>False</td>\n",
       "      <td>France</td>\n",
       "    </tr>\n",
       "    <tr>\n",
       "      <th>3</th>\n",
       "      <td>d3e7b79b-fb99-434f-9a44-04df707f3741</td>\n",
       "      <td>24417</td>\n",
       "      <td>2/19/2022</td>\n",
       "      <td>US/Pacific</td>\n",
       "      <td>US Dollars</td>\n",
       "      <td>1091.9885</td>\n",
       "      <td>True</td>\n",
       "      <td>Canada</td>\n",
       "    </tr>\n",
       "    <tr>\n",
       "      <th>4</th>\n",
       "      <td>fe816fbb-9f09-4bd7-bdb4-46dfdbf4888a</td>\n",
       "      <td>56415</td>\n",
       "      <td>2/9/2022</td>\n",
       "      <td>US/Pacific</td>\n",
       "      <td>EUR</td>\n",
       "      <td>5427.2242</td>\n",
       "      <td>True</td>\n",
       "      <td>Portugal</td>\n",
       "    </tr>\n",
       "  </tbody>\n",
       "</table>\n",
       "</div>"
      ],
      "text/plain": [
       "                         transaction_id   user  timestamp            tz  \\\n",
       "0  4afd43a4-7833-4883-aa4f-1506cba532ce  47735   2/2/2022  Europe/Paris   \n",
       "1  1777cfe1-0ab7-4c57-94f7-99c58d8a419c  76257  1/11/2022  Europe/Paris   \n",
       "2  f19e7c82-7b90-401d-a6af-fef1a7ecfbe7  30358  1/11/2022    US/Pacific   \n",
       "3  d3e7b79b-fb99-434f-9a44-04df707f3741  24417  2/19/2022    US/Pacific   \n",
       "4  fe816fbb-9f09-4bd7-bdb4-46dfdbf4888a  56415   2/9/2022    US/Pacific   \n",
       "\n",
       "     currency      value  cleared   country  \n",
       "0         USD  4999.8415    False    Canada  \n",
       "1         GBP  3062.9059    False    Canada  \n",
       "2         USD  3130.5393    False    France  \n",
       "3  US Dollars  1091.9885     True    Canada  \n",
       "4         EUR  5427.2242     True  Portugal  "
      ]
     },
     "execution_count": 16,
     "metadata": {},
     "output_type": "execute_result"
    }
   ],
   "source": [
    "df.head()"
   ]
  },
  {
   "cell_type": "code",
   "execution_count": 17,
   "metadata": {},
   "outputs": [],
   "source": [
    "df['timestamp'] = pd.to_datetime(df['timestamp'])"
   ]
  },
  {
   "cell_type": "code",
   "execution_count": 18,
   "metadata": {},
   "outputs": [],
   "source": [
    "df['timestamp'] = df['timestamp'].dt.strftime('%d/%m/%Y')"
   ]
  },
  {
   "cell_type": "code",
   "execution_count": 19,
   "metadata": {},
   "outputs": [
    {
     "name": "stdout",
     "output_type": "stream",
     "text": [
      "                           transaction_id   user   timestamp             tz  \\\n",
      "0    4afd43a4-7833-4883-aa4f-1506cba532ce  47735  02/02/2022   Europe/Paris   \n",
      "1    1777cfe1-0ab7-4c57-94f7-99c58d8a419c  76257  11/01/2022   Europe/Paris   \n",
      "2    f19e7c82-7b90-401d-a6af-fef1a7ecfbe7  30358  11/01/2022     US/Pacific   \n",
      "3    d3e7b79b-fb99-434f-9a44-04df707f3741  24417  19/02/2022     US/Pacific   \n",
      "4    fe816fbb-9f09-4bd7-bdb4-46dfdbf4888a  56415  09/02/2022     US/Pacific   \n",
      "..                                    ...    ...         ...            ...   \n",
      "865  69b5ff88-b2c7-4122-b560-74c968632e62  44868  11/01/2022     US/Eastern   \n",
      "866  898881ce-d7fc-418b-9eb8-74d64d4a0a37  47819  20/01/2022     US/Eastern   \n",
      "867  42aaae24-d50b-485b-a7ad-e58442aec87a  60535  20/01/2022  Europe/London   \n",
      "868  539759c5-5303-4e48-b2a8-d6ba4797b15c  62664  13/01/2022     US/Eastern   \n",
      "869  14235c77-8ae6-4b0c-8626-ca8f0b86f97a  94520  08/02/2022     US/Pacific   \n",
      "\n",
      "       currency      value  cleared        country  \n",
      "0           USD  4999.8415    False         Canada  \n",
      "1           GBP  3062.9059    False         Canada  \n",
      "2           USD  3130.5393    False         France  \n",
      "3    US Dollars  1091.9885     True         Canada  \n",
      "4           EUR  5427.2242     True       Portugal  \n",
      "..          ...        ...      ...            ...  \n",
      "865        Euro  7391.7487    False         France  \n",
      "866         GBP  5732.5709    False         France  \n",
      "867         EUR  6120.5154     True  United States  \n",
      "868         GBP  9508.1657     True       Portugal  \n",
      "869         USD  1161.6215    False       Portugal  \n",
      "\n",
      "[870 rows x 8 columns]\n"
     ]
    }
   ],
   "source": [
    "print(df)"
   ]
  },
  {
   "cell_type": "markdown",
   "metadata": {},
   "source": [
    "<font color='blue'>Loading data into the Database</font>"
   ]
  },
  {
   "cell_type": "code",
   "execution_count": 20,
   "metadata": {},
   "outputs": [],
   "source": [
    "cursor.execute(\"DROP TABLE IF EXISTS transaction_raw\")"
   ]
  },
  {
   "cell_type": "code",
   "execution_count": 21,
   "metadata": {},
   "outputs": [],
   "source": [
    "engine = create_engine('postgresql://postgres:Ashwini@12@localhost/mydb')\n",
    "df.to_sql('transaction_raw',con= engine,if_exists='replace',index=False,\n",
    "           dtype ={'transaction_id': sqlalchemy.types.VARCHAR(50),\n",
    "                     'user' : sqlalchemy.types.INTEGER,\n",
    "                     'timestamp' :sqlalchemy.types.Date,\n",
    "                     'tz' :sqlalchemy.types.VARCHAR(length=20),\n",
    "                     'currency':sqlalchemy.types.VARCHAR(length=10),\n",
    "                     'value' :sqlalchemy.types.Numeric,\n",
    "                     'cleared' :sqlalchemy.types.Boolean,\n",
    "                     'country':sqlalchemy.types.VARCHAR(length=50)})"
   ]
  },
  {
   "cell_type": "code",
   "execution_count": 22,
   "metadata": {},
   "outputs": [],
   "source": [
    "cursor.execute(\"DROP TABLE IF EXISTS transaction\")\n",
    "sql=\"\"\"Create Table transaction as \n",
    "        Select * from transaction_raw\n",
    "        where value is not null\"\"\"\n",
    "cursor.execute(sql)"
   ]
  },
  {
   "cell_type": "markdown",
   "metadata": {},
   "source": [
    "<font color='blue'>Transforming the data</font>"
   ]
  },
  {
   "cell_type": "code",
   "execution_count": 23,
   "metadata": {},
   "outputs": [
    {
     "name": "stdout",
     "output_type": "stream",
     "text": [
      "('transaction', 'transaction_id', 'character varying')\n",
      "('transaction', 'user', 'integer')\n",
      "('transaction', 'timestamp', 'date')\n",
      "('transaction', 'tz', 'character varying')\n",
      "('transaction', 'currency', 'character varying')\n",
      "('transaction', 'value', 'numeric')\n",
      "('transaction', 'cleared', 'boolean')\n",
      "('transaction', 'country', 'character varying')\n"
     ]
    }
   ],
   "source": [
    "sql = \"\"\"SELECT table_name, column_name, data_type \n",
    "         FROM information_schema.columns\n",
    "         WHERE table_name = 'transaction'\"\"\"\n",
    "cursor.execute(sql)\n",
    "for i in cursor.fetchall():\n",
    "    print(i)"
   ]
  },
  {
   "cell_type": "code",
   "execution_count": 24,
   "metadata": {},
   "outputs": [],
   "source": [
    "s = \"\"\"ALTER TABLE transaction\n",
    "       ALTER COLUMN value TYPE Numeric(10,2);\n",
    "       \"\"\"\n",
    "cursor.execute(s)"
   ]
  },
  {
   "cell_type": "code",
   "execution_count": 25,
   "metadata": {},
   "outputs": [],
   "source": [
    "up = \"\"\"UPDATE transaction\n",
    "        SET currency = 'EUR' \n",
    "        WHERE currency IN ('Euro')\"\"\"\n",
    "cursor.execute(up)\n",
    "upd = \"\"\"UPDATE transaction\n",
    "        SET currency = 'USD' \n",
    "        WHERE currency IN ('US Dollars')\"\"\"\n",
    "cursor.execute(upd)"
   ]
  },
  {
   "cell_type": "code",
   "execution_count": 26,
   "metadata": {},
   "outputs": [],
   "source": [
    "s0 = \"\"\"UPDATE transaction\n",
    "        SET currency = 'GBP' \n",
    "        WHERE currency isnull\"\"\"\n",
    "cursor.execute(s0)"
   ]
  },
  {
   "cell_type": "code",
   "execution_count": 28,
   "metadata": {},
   "outputs": [],
   "source": [
    "s2 = \"\"\"UPDATE transaction\n",
    "        SET country = 'United Kingdom'\n",
    "        where country is null\"\"\"\n",
    "cursor.execute(s2)\n",
    "\n",
    "s3 = \"\"\"select * from transaction where country is null\n",
    "        \"\"\"\n",
    "cursor.execute(s3)\n",
    "for i in cursor.fetchall():\n",
    "    print(i)"
   ]
  },
  {
   "cell_type": "markdown",
   "metadata": {},
   "source": [
    "<font color='blue'>Extracting from API</font>"
   ]
  },
  {
   "cell_type": "code",
   "execution_count": 29,
   "metadata": {},
   "outputs": [],
   "source": [
    "import json,requests"
   ]
  },
  {
   "cell_type": "code",
   "execution_count": 30,
   "metadata": {},
   "outputs": [],
   "source": [
    "response = requests.get('https://v6.exchangerate-api.com/v6/435a57dc789ddcb46282a1b6/latest/GBP')"
   ]
  },
  {
   "cell_type": "code",
   "execution_count": 31,
   "metadata": {},
   "outputs": [],
   "source": [
    "c_rates = response.text"
   ]
  },
  {
   "cell_type": "code",
   "execution_count": 32,
   "metadata": {},
   "outputs": [],
   "source": [
    "rates_d = json.loads(c_rates)"
   ]
  },
  {
   "cell_type": "code",
   "execution_count": 33,
   "metadata": {},
   "outputs": [
    {
     "data": {
      "text/plain": [
       "{'result': 'success',\n",
       " 'documentation': 'https://www.exchangerate-api.com/docs',\n",
       " 'terms_of_use': 'https://www.exchangerate-api.com/terms',\n",
       " 'time_last_update_unix': 1649289602,\n",
       " 'time_last_update_utc': 'Thu, 07 Apr 2022 00:00:02 +0000',\n",
       " 'time_next_update_unix': 1649376002,\n",
       " 'time_next_update_utc': 'Fri, 08 Apr 2022 00:00:02 +0000',\n",
       " 'base_code': 'GBP',\n",
       " 'conversion_rates': {'GBP': 1,\n",
       "  'AED': 4.802,\n",
       "  'AFN': 115.9079,\n",
       "  'ALL': 145.4647,\n",
       "  'AMD': 625.6295,\n",
       "  'ANG': 2.3405,\n",
       "  'AOA': 587.6595,\n",
       "  'ARS': 146.0767,\n",
       "  'AUD': 1.7329,\n",
       "  'AWG': 2.3405,\n",
       "  'AZN': 2.219,\n",
       "  'BAM': 2.3451,\n",
       "  'BBD': 2.6151,\n",
       "  'BDT': 111.6159,\n",
       "  'BGN': 2.3448,\n",
       "  'BHD': 0.4916,\n",
       "  'BIF': 2658.8169,\n",
       "  'BMD': 1.3076,\n",
       "  'BND': 1.7785,\n",
       "  'BOB': 8.9907,\n",
       "  'BRL': 6.1158,\n",
       "  'BSD': 1.3076,\n",
       "  'BTN': 98.9244,\n",
       "  'BWP': 15.132,\n",
       "  'BYN': 3.8194,\n",
       "  'BZD': 2.6151,\n",
       "  'CAD': 1.6366,\n",
       "  'CDF': 2604.6342,\n",
       "  'CHF': 1.22,\n",
       "  'CLP': 1029.0028,\n",
       "  'CNY': 8.3177,\n",
       "  'COP': 4882.2612,\n",
       "  'CRC': 862.9364,\n",
       "  'CUP': 31.3816,\n",
       "  'CVE': 132.21,\n",
       "  'CZK': 29.3475,\n",
       "  'DJF': 232.3821,\n",
       "  'DKK': 8.9451,\n",
       "  'DOP': 71.9783,\n",
       "  'DZD': 187.5322,\n",
       "  'EGP': 23.8889,\n",
       "  'ERN': 19.6135,\n",
       "  'ETB': 66.1536,\n",
       "  'EUR': 1.199,\n",
       "  'FJD': 2.7225,\n",
       "  'FKP': 1.0,\n",
       "  'FOK': 8.9451,\n",
       "  'GEL': 4.032,\n",
       "  'GGP': 1.0,\n",
       "  'GHS': 10.1833,\n",
       "  'GIP': 1.0,\n",
       "  'GMD': 70.2263,\n",
       "  'GNF': 11621.1366,\n",
       "  'GTQ': 10.0162,\n",
       "  'GYD': 272.0858,\n",
       "  'HKD': 10.2544,\n",
       "  'HNL': 31.9327,\n",
       "  'HRK': 9.034,\n",
       "  'HTG': 139.6349,\n",
       "  'HUF': 454.0589,\n",
       "  'IDR': 18856.2703,\n",
       "  'ILS': 4.2295,\n",
       "  'IMP': 1.0,\n",
       "  'INR': 98.9267,\n",
       "  'IQD': 1897.8146,\n",
       "  'IRR': 54978.5677,\n",
       "  'ISK': 169.1745,\n",
       "  'JEP': 1.0,\n",
       "  'JMD': 200.8111,\n",
       "  'JOD': 0.9271,\n",
       "  'JPY': 161.9296,\n",
       "  'KES': 151.384,\n",
       "  'KGS': 112.2076,\n",
       "  'KHR': 5265.3112,\n",
       "  'KID': 1.7329,\n",
       "  'KMF': 589.8793,\n",
       "  'KRW': 1590.7535,\n",
       "  'KWD': 0.3918,\n",
       "  'KYD': 1.0896,\n",
       "  'KZT': 609.1652,\n",
       "  'LAK': 17005.4689,\n",
       "  'LBP': 1971.1572,\n",
       "  'LKR': 392.7551,\n",
       "  'LRD': 199.4817,\n",
       "  'LSL': 19.1612,\n",
       "  'LYD': 6.0762,\n",
       "  'MAD': 12.465,\n",
       "  'MDL': 24.0046,\n",
       "  'MGA': 4746.868,\n",
       "  'MKD': 73.8951,\n",
       "  'MMK': 2373.4452,\n",
       "  'MNT': 3920.1858,\n",
       "  'MOP': 10.5617,\n",
       "  'MRU': 47.316,\n",
       "  'MUR': 57.8018,\n",
       "  'MVR': 20.086,\n",
       "  'MWK': 1073.3449,\n",
       "  'MXN': 26.283,\n",
       "  'MYR': 5.5034,\n",
       "  'MZN': 83.5337,\n",
       "  'NAD': 19.1612,\n",
       "  'NGN': 543.213,\n",
       "  'NIO': 46.6857,\n",
       "  'NOK': 11.4814,\n",
       "  'NPR': 158.279,\n",
       "  'NZD': 1.8872,\n",
       "  'OMR': 0.5028,\n",
       "  'PAB': 1.3076,\n",
       "  'PEN': 4.8345,\n",
       "  'PGK': 4.6013,\n",
       "  'PHP': 67.0279,\n",
       "  'PKR': 242.6928,\n",
       "  'PLN': 5.5685,\n",
       "  'PYG': 9215.36,\n",
       "  'QAR': 4.7595,\n",
       "  'RON': 5.9218,\n",
       "  'RSD': 141.1487,\n",
       "  'RUB': 108.18,\n",
       "  'RWF': 1384.4274,\n",
       "  'SAR': 4.9034,\n",
       "  'SBD': 10.2946,\n",
       "  'SCR': 18.6783,\n",
       "  'SDG': 580.1156,\n",
       "  'SEK': 12.3709,\n",
       "  'SGD': 1.7786,\n",
       "  'SHP': 1.0,\n",
       "  'SLL': 15387.5438,\n",
       "  'SOS': 752.2892,\n",
       "  'SRD': 26.9133,\n",
       "  'SSP': 556.1966,\n",
       "  'STN': 29.376,\n",
       "  'SYP': 3282.9905,\n",
       "  'SZL': 19.1612,\n",
       "  'THB': 43.936,\n",
       "  'TJS': 16.354,\n",
       "  'TMT': 4.5817,\n",
       "  'TND': 3.6795,\n",
       "  'TOP': 2.9077,\n",
       "  'TRY': 19.26,\n",
       "  'TTD': 9.1939,\n",
       "  'TVD': 1.7329,\n",
       "  'TWD': 37.4586,\n",
       "  'TZS': 3037.0191,\n",
       "  'UAH': 38.3097,\n",
       "  'UGX': 4645.1579,\n",
       "  'USD': 1.3076,\n",
       "  'UYU': 54.1177,\n",
       "  'UZS': 14912.5806,\n",
       "  'VES': 5.7565,\n",
       "  'VND': 29885.8054,\n",
       "  'VUV': 144.6349,\n",
       "  'WST': 3.3342,\n",
       "  'XAF': 786.5057,\n",
       "  'XCD': 3.5304,\n",
       "  'XDR': 0.9536,\n",
       "  'XOF': 786.5057,\n",
       "  'XPF': 143.0815,\n",
       "  'YER': 327.0682,\n",
       "  'ZAR': 19.1617,\n",
       "  'ZMW': 23.032,\n",
       "  'ZWL': 190.7136}}"
      ]
     },
     "execution_count": 33,
     "metadata": {},
     "output_type": "execute_result"
    }
   ],
   "source": [
    "rates_d"
   ]
  },
  {
   "cell_type": "code",
   "execution_count": 34,
   "metadata": {},
   "outputs": [],
   "source": [
    "cursor.execute(\"DROP TABLE IF EXISTS exchange_rate\")"
   ]
  },
  {
   "cell_type": "code",
   "execution_count": 35,
   "metadata": {},
   "outputs": [],
   "source": [
    "sql4 = \"\"\"create table exchange_rate(currency varchar, rate Numeric(10,2))\"\"\"\n",
    "cursor.execute(sql4)"
   ]
  },
  {
   "cell_type": "code",
   "execution_count": 36,
   "metadata": {},
   "outputs": [],
   "source": [
    "sql6 = \"\"\"INSERT INTO exchange_rate VALUES(%s, %s)\"\"\"\n",
    "\n",
    "for record in rates_d[\"conversion_rates\"].items():\n",
    "    cursor.execute(sql6, [record[0], record[1]])\n"
   ]
  },
  {
   "cell_type": "code",
   "execution_count": 37,
   "metadata": {},
   "outputs": [
    {
     "name": "stdout",
     "output_type": "stream",
     "text": [
      "('GBP', Decimal('1.00'))\n",
      "('AED', Decimal('4.80'))\n",
      "('AFN', Decimal('115.91'))\n",
      "('ALL', Decimal('145.46'))\n",
      "('AMD', Decimal('625.63'))\n",
      "('ANG', Decimal('2.34'))\n",
      "('AOA', Decimal('587.66'))\n",
      "('ARS', Decimal('146.08'))\n",
      "('AUD', Decimal('1.73'))\n",
      "('AWG', Decimal('2.34'))\n",
      "('AZN', Decimal('2.22'))\n",
      "('BAM', Decimal('2.35'))\n",
      "('BBD', Decimal('2.62'))\n",
      "('BDT', Decimal('111.62'))\n",
      "('BGN', Decimal('2.34'))\n",
      "('BHD', Decimal('0.49'))\n",
      "('BIF', Decimal('2658.82'))\n",
      "('BMD', Decimal('1.31'))\n",
      "('BND', Decimal('1.78'))\n",
      "('BOB', Decimal('8.99'))\n",
      "('BRL', Decimal('6.12'))\n",
      "('BSD', Decimal('1.31'))\n",
      "('BTN', Decimal('98.92'))\n",
      "('BWP', Decimal('15.13'))\n",
      "('BYN', Decimal('3.82'))\n",
      "('BZD', Decimal('2.62'))\n",
      "('CAD', Decimal('1.64'))\n",
      "('CDF', Decimal('2604.63'))\n",
      "('CHF', Decimal('1.22'))\n",
      "('CLP', Decimal('1029.00'))\n",
      "('CNY', Decimal('8.32'))\n",
      "('COP', Decimal('4882.26'))\n",
      "('CRC', Decimal('862.94'))\n",
      "('CUP', Decimal('31.38'))\n",
      "('CVE', Decimal('132.21'))\n",
      "('CZK', Decimal('29.35'))\n",
      "('DJF', Decimal('232.38'))\n",
      "('DKK', Decimal('8.95'))\n",
      "('DOP', Decimal('71.98'))\n",
      "('DZD', Decimal('187.53'))\n",
      "('EGP', Decimal('23.89'))\n",
      "('ERN', Decimal('19.61'))\n",
      "('ETB', Decimal('66.15'))\n",
      "('EUR', Decimal('1.20'))\n",
      "('FJD', Decimal('2.72'))\n",
      "('FKP', Decimal('1.00'))\n",
      "('FOK', Decimal('8.95'))\n",
      "('GEL', Decimal('4.03'))\n",
      "('GGP', Decimal('1.00'))\n",
      "('GHS', Decimal('10.18'))\n",
      "('GIP', Decimal('1.00'))\n",
      "('GMD', Decimal('70.23'))\n",
      "('GNF', Decimal('11621.14'))\n",
      "('GTQ', Decimal('10.02'))\n",
      "('GYD', Decimal('272.09'))\n",
      "('HKD', Decimal('10.25'))\n",
      "('HNL', Decimal('31.93'))\n",
      "('HRK', Decimal('9.03'))\n",
      "('HTG', Decimal('139.63'))\n",
      "('HUF', Decimal('454.06'))\n",
      "('IDR', Decimal('18856.27'))\n",
      "('ILS', Decimal('4.23'))\n",
      "('IMP', Decimal('1.00'))\n",
      "('INR', Decimal('98.93'))\n",
      "('IQD', Decimal('1897.81'))\n",
      "('IRR', Decimal('54978.57'))\n",
      "('ISK', Decimal('169.17'))\n",
      "('JEP', Decimal('1.00'))\n",
      "('JMD', Decimal('200.81'))\n",
      "('JOD', Decimal('0.93'))\n",
      "('JPY', Decimal('161.93'))\n",
      "('KES', Decimal('151.38'))\n",
      "('KGS', Decimal('112.21'))\n",
      "('KHR', Decimal('5265.31'))\n",
      "('KID', Decimal('1.73'))\n",
      "('KMF', Decimal('589.88'))\n",
      "('KRW', Decimal('1590.75'))\n",
      "('KWD', Decimal('0.39'))\n",
      "('KYD', Decimal('1.09'))\n",
      "('KZT', Decimal('609.17'))\n",
      "('LAK', Decimal('17005.47'))\n",
      "('LBP', Decimal('1971.16'))\n",
      "('LKR', Decimal('392.76'))\n",
      "('LRD', Decimal('199.48'))\n",
      "('LSL', Decimal('19.16'))\n",
      "('LYD', Decimal('6.08'))\n",
      "('MAD', Decimal('12.47'))\n",
      "('MDL', Decimal('24.00'))\n",
      "('MGA', Decimal('4746.87'))\n",
      "('MKD', Decimal('73.90'))\n",
      "('MMK', Decimal('2373.45'))\n",
      "('MNT', Decimal('3920.19'))\n",
      "('MOP', Decimal('10.56'))\n",
      "('MRU', Decimal('47.32'))\n",
      "('MUR', Decimal('57.80'))\n",
      "('MVR', Decimal('20.09'))\n",
      "('MWK', Decimal('1073.34'))\n",
      "('MXN', Decimal('26.28'))\n",
      "('MYR', Decimal('5.50'))\n",
      "('MZN', Decimal('83.53'))\n",
      "('NAD', Decimal('19.16'))\n",
      "('NGN', Decimal('543.21'))\n",
      "('NIO', Decimal('46.69'))\n",
      "('NOK', Decimal('11.48'))\n",
      "('NPR', Decimal('158.28'))\n",
      "('NZD', Decimal('1.89'))\n",
      "('OMR', Decimal('0.50'))\n",
      "('PAB', Decimal('1.31'))\n",
      "('PEN', Decimal('4.83'))\n",
      "('PGK', Decimal('4.60'))\n",
      "('PHP', Decimal('67.03'))\n",
      "('PKR', Decimal('242.69'))\n",
      "('PLN', Decimal('5.57'))\n",
      "('PYG', Decimal('9215.36'))\n",
      "('QAR', Decimal('4.76'))\n",
      "('RON', Decimal('5.92'))\n",
      "('RSD', Decimal('141.15'))\n",
      "('RUB', Decimal('108.18'))\n",
      "('RWF', Decimal('1384.43'))\n",
      "('SAR', Decimal('4.90'))\n",
      "('SBD', Decimal('10.29'))\n",
      "('SCR', Decimal('18.68'))\n",
      "('SDG', Decimal('580.12'))\n",
      "('SEK', Decimal('12.37'))\n",
      "('SGD', Decimal('1.78'))\n",
      "('SHP', Decimal('1.00'))\n",
      "('SLL', Decimal('15387.54'))\n",
      "('SOS', Decimal('752.29'))\n",
      "('SRD', Decimal('26.91'))\n",
      "('SSP', Decimal('556.20'))\n",
      "('STN', Decimal('29.38'))\n",
      "('SYP', Decimal('3282.99'))\n",
      "('SZL', Decimal('19.16'))\n",
      "('THB', Decimal('43.94'))\n",
      "('TJS', Decimal('16.35'))\n",
      "('TMT', Decimal('4.58'))\n",
      "('TND', Decimal('3.68'))\n",
      "('TOP', Decimal('2.91'))\n",
      "('TRY', Decimal('19.26'))\n",
      "('TTD', Decimal('9.19'))\n",
      "('TVD', Decimal('1.73'))\n",
      "('TWD', Decimal('37.46'))\n",
      "('TZS', Decimal('3037.02'))\n",
      "('UAH', Decimal('38.31'))\n",
      "('UGX', Decimal('4645.16'))\n",
      "('USD', Decimal('1.31'))\n",
      "('UYU', Decimal('54.12'))\n",
      "('UZS', Decimal('14912.58'))\n",
      "('VES', Decimal('5.76'))\n",
      "('VND', Decimal('29885.81'))\n",
      "('VUV', Decimal('144.63'))\n",
      "('WST', Decimal('3.33'))\n",
      "('XAF', Decimal('786.51'))\n",
      "('XCD', Decimal('3.53'))\n",
      "('XDR', Decimal('0.95'))\n",
      "('XOF', Decimal('786.51'))\n",
      "('XPF', Decimal('143.08'))\n",
      "('YER', Decimal('327.07'))\n",
      "('ZAR', Decimal('19.16'))\n",
      "('ZMW', Decimal('23.03'))\n",
      "('ZWL', Decimal('190.71'))\n"
     ]
    }
   ],
   "source": [
    "sql9 = \"\"\"select * from exchange_rate \"\"\"\n",
    "cursor.execute(sql9)\n",
    "for i in cursor.fetchall():\n",
    "    print(i)"
   ]
  },
  {
   "cell_type": "code",
   "execution_count": 38,
   "metadata": {},
   "outputs": [
    {
     "name": "stdout",
     "output_type": "stream",
     "text": [
      "('exchange_rate', 'currency', 'character varying')\n",
      "('exchange_rate', 'rate', 'numeric')\n"
     ]
    }
   ],
   "source": [
    "sql10 = \"\"\"SELECT table_name, column_name, data_type \n",
    "           FROM information_schema.columns\n",
    "           WHERE table_name = 'exchange_rate'\"\"\"\n",
    "cursor.execute(sql10)\n",
    "for i in cursor.fetchall():\n",
    "    print(i)"
   ]
  }
 ],
 "metadata": {
  "kernelspec": {
   "display_name": "Python 3",
   "language": "python",
   "name": "python3"
  },
  "language_info": {
   "codemirror_mode": {
    "name": "ipython",
    "version": 3
   },
   "file_extension": ".py",
   "mimetype": "text/x-python",
   "name": "python",
   "nbconvert_exporter": "python",
   "pygments_lexer": "ipython3",
   "version": "3.8.3"
  }
 },
 "nbformat": 4,
 "nbformat_minor": 4
}
