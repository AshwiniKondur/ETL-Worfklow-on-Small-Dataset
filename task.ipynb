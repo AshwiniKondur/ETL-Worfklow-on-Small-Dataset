{
 "cells": [
  {
   "cell_type": "markdown",
   "metadata": {},
   "source": [
    "#                              Data Engineer Technical Test"
   ]
  },
  {
   "cell_type": "code",
   "execution_count": 1,
   "metadata": {},
   "outputs": [],
   "source": [
    "#conda update jupyter\n",
    "#%load_ext sql"
   ]
  },
  {
   "cell_type": "code",
   "execution_count": 2,
   "metadata": {},
   "outputs": [],
   "source": [
    "#pip install psycopg2\n",
    "#pip install sqlalchemy"
   ]
  },
  {
   "cell_type": "markdown",
   "metadata": {},
   "source": [
    "<font color='blue'>Connecting to Postgresql Database</font>"
   ]
  },
  {
   "cell_type": "code",
   "execution_count": 3,
   "metadata": {},
   "outputs": [],
   "source": [
    "import psycopg2\n",
    "import pandas as pd\n",
    "import sqlalchemy\n",
    "from sqlalchemy import types\n",
    "from sqlalchemy import create_engine"
   ]
  },
  {
   "cell_type": "code",
   "execution_count": null,
   "metadata": {},
   "outputs": [],
   "source": [
    "try:\n",
    "    conn = psycopg2.connect(\"dbname='mydb' user='postgres' host='localhost' password='Ashwini@12'\")\n",
    "except:\n",
    "    print(\"Database Connection Error\")\n",
    "conn.autocommit = True\n",
    "cursor = conn.cursor()"
   ]
  },
  {
   "cell_type": "markdown",
   "metadata": {},
   "source": [
    "<font color='blue'>Loading CSV in Dataframe</font>"
   ]
  },
  {
   "cell_type": "code",
   "execution_count": null,
   "metadata": {},
   "outputs": [],
   "source": [
    "df = pd.read_csv (r'C:\\Users\\Ashwini\\Ably\\transactions.csv')   \n"
   ]
  },
  {
   "cell_type": "code",
   "execution_count": null,
   "metadata": {},
   "outputs": [],
   "source": [
    "df.head()"
   ]
  },
  {
   "cell_type": "code",
   "execution_count": null,
   "metadata": {},
   "outputs": [],
   "source": [
    "df['timestamp'] = pd.to_datetime(df['timestamp'])"
   ]
  },
  {
   "cell_type": "code",
   "execution_count": 8,
   "metadata": {},
   "outputs": [],
   "source": [
    "df['timestamp'] = df['timestamp'].dt.strftime('%d/%m/%Y')"
   ]
  },
  {
   "cell_type": "code",
   "execution_count": 9,
   "metadata": {},
   "outputs": [
    {
     "name": "stdout",
     "output_type": "stream",
     "text": [
      "                           transaction_id   user   timestamp             tz  \\\n",
      "0    4afd43a4-7833-4883-aa4f-1506cba532ce  47735  02/02/2022   Europe/Paris   \n",
      "1    1777cfe1-0ab7-4c57-94f7-99c58d8a419c  76257  11/01/2022   Europe/Paris   \n",
      "2    f19e7c82-7b90-401d-a6af-fef1a7ecfbe7  30358  11/01/2022     US/Pacific   \n",
      "3    d3e7b79b-fb99-434f-9a44-04df707f3741  24417  19/02/2022     US/Pacific   \n",
      "4    fe816fbb-9f09-4bd7-bdb4-46dfdbf4888a  56415  09/02/2022     US/Pacific   \n",
      "..                                    ...    ...         ...            ...   \n",
      "865  69b5ff88-b2c7-4122-b560-74c968632e62  44868  11/01/2022     US/Eastern   \n",
      "866  898881ce-d7fc-418b-9eb8-74d64d4a0a37  47819  20/01/2022     US/Eastern   \n",
      "867  42aaae24-d50b-485b-a7ad-e58442aec87a  60535  20/01/2022  Europe/London   \n",
      "868  539759c5-5303-4e48-b2a8-d6ba4797b15c  62664  13/01/2022     US/Eastern   \n",
      "869  14235c77-8ae6-4b0c-8626-ca8f0b86f97a  94520  08/02/2022     US/Pacific   \n",
      "\n",
      "       currency      value  cleared        country  \n",
      "0           USD  4999.8415    False         Canada  \n",
      "1           GBP  3062.9059    False         Canada  \n",
      "2           USD  3130.5393    False         France  \n",
      "3    US Dollars  1091.9885     True         Canada  \n",
      "4           EUR  5427.2242     True       Portugal  \n",
      "..          ...        ...      ...            ...  \n",
      "865        Euro  7391.7487    False         France  \n",
      "866         GBP  5732.5709    False         France  \n",
      "867         EUR  6120.5154     True  United States  \n",
      "868         GBP  9508.1657     True       Portugal  \n",
      "869         USD  1161.6215    False       Portugal  \n",
      "\n",
      "[870 rows x 8 columns]\n"
     ]
    }
   ],
   "source": [
    "print(df)"
   ]
  },
  {
   "cell_type": "markdown",
   "metadata": {},
   "source": [
    "<font color='blue'>Loading data into the Database</font>"
   ]
  },
  {
   "cell_type": "code",
   "execution_count": null,
   "metadata": {},
   "outputs": [],
   "source": [
    "cursor.execute(\"DROP TABLE IF EXISTS transaction_raw\")"
   ]
  },
  {
   "cell_type": "code",
   "execution_count": null,
   "metadata": {},
   "outputs": [],
   "source": [
    "engine = create_engine('postgresql://postgres:Ashwini@12@localhost/mydb')\n",
    "df.to_sql('transaction_raw',con= engine,if_exists='replace',index=False,\n",
    "           dtype ={'transaction_id': sqlalchemy.types.VARCHAR(50),\n",
    "                     'user' : sqlalchemy.types.INTEGER,\n",
    "                     'timestamp' :sqlalchemy.types.Date,\n",
    "                     'tz' :sqlalchemy.types.VARCHAR(length=20),\n",
    "                     'currency':sqlalchemy.types.VARCHAR(length=10),\n",
    "                     'value' :sqlalchemy.types.Numeric,\n",
    "                     'cleared' :sqlalchemy.types.Boolean,\n",
    "                     'country':sqlalchemy.types.VARCHAR(length=50)})"
   ]
  },
  {
   "cell_type": "code",
   "execution_count": null,
   "metadata": {},
   "outputs": [],
   "source": [
    "cursor.execute(\"DROP TABLE IF EXISTS transaction\")\n",
    "sql=\"\"\"Create Table transaction as \n",
    "        Select * from transaction_raw\n",
    "        where value is not null\"\"\"\n",
    "cursor.execute(sql)"
   ]
  },
  {
   "cell_type": "markdown",
   "metadata": {},
   "source": [
    "<font color='blue'>Transforming the data</font>"
   ]
  },
  {
   "cell_type": "code",
   "execution_count": null,
   "metadata": {},
   "outputs": [],
   "source": [
    "sql = \"\"\"SELECT table_name, column_name, data_type \n",
    "         FROM information_schema.columns\n",
    "         WHERE table_name = 'transaction'\"\"\"\n",
    "cursor.execute(sql)\n",
    "for i in cursor.fetchall():\n",
    "    print(i)"
   ]
  },
  {
   "cell_type": "code",
   "execution_count": null,
   "metadata": {},
   "outputs": [],
   "source": [
    "s = \"\"\"ALTER TABLE transaction\n",
    "       ALTER COLUMN value TYPE Numeric(10,2);\n",
    "       \"\"\"\n",
    "cursor.execute(s)"
   ]
  },
  {
   "cell_type": "code",
   "execution_count": null,
   "metadata": {},
   "outputs": [],
   "source": [
    "up = \"\"\"UPDATE transaction\n",
    "        SET currency = 'EUR' \n",
    "        WHERE currency IN ('Euro')\"\"\"\n",
    "cursor.execute(up)\n",
    "upd = \"\"\"UPDATE transaction\n",
    "        SET currency = 'USD' \n",
    "        WHERE currency IN ('US Dollars')\"\"\"\n",
    "cursor.execute(upd)"
   ]
  },
  {
   "cell_type": "code",
   "execution_count": null,
   "metadata": {},
   "outputs": [],
   "source": [
    "s0 = \"\"\"UPDATE transaction\n",
    "        SET currency = 'GBP' \n",
    "        WHERE currency isnull\"\"\"\n",
    "cursor.execute(s0)"
   ]
  },
  {
   "cell_type": "code",
   "execution_count": null,
   "metadata": {},
   "outputs": [],
   "source": [
    "s2 = \"\"\"UPDATE transaction\n",
    "        SET country = 'United Kingdom'\n",
    "        where country is null\"\"\"\n",
    "cursor.execute(s2)\n",
    "\n",
    "s3 = \"\"\"select * from transaction where country is null\n",
    "        \"\"\"\n",
    "cursor.execute(s3)\n",
    "for i in cursor.fetchall():\n",
    "    print(i)"
   ]
  },
  {
   "cell_type": "markdown",
   "metadata": {},
   "source": [
    "<font color='blue'>Extracting from API</font>"
   ]
  },
  {
   "cell_type": "code",
   "execution_count": null,
   "metadata": {},
   "outputs": [],
   "source": [
    "import json,requests"
   ]
  },
  {
   "cell_type": "code",
   "execution_count": null,
   "metadata": {},
   "outputs": [],
   "source": [
    "response = requests.get('https://v6.exchangerate-api.com/v6/435a57dc789ddcb46282a1b6/latest/GBP')"
   ]
  },
  {
   "cell_type": "code",
   "execution_count": null,
   "metadata": {},
   "outputs": [],
   "source": [
    "c_rates = response.text"
   ]
  },
  {
   "cell_type": "code",
   "execution_count": null,
   "metadata": {},
   "outputs": [],
   "source": [
    "rates_d = json.loads(c_rates)"
   ]
  },
  {
   "cell_type": "code",
   "execution_count": null,
   "metadata": {},
   "outputs": [],
   "source": [
    "rates_d"
   ]
  },
  {
   "cell_type": "code",
   "execution_count": null,
   "metadata": {},
   "outputs": [],
   "source": [
    "cursor.execute(\"DROP TABLE IF EXISTS exchange_rate\")"
   ]
  },
  {
   "cell_type": "code",
   "execution_count": null,
   "metadata": {},
   "outputs": [],
   "source": [
    "sql4 = \"\"\"create table exchange_rate(currency varchar, rate Numeric(10,2))\"\"\"\n",
    "cursor.execute(sql4)"
   ]
  },
  {
   "cell_type": "code",
   "execution_count": null,
   "metadata": {},
   "outputs": [],
   "source": [
    "sql6 = \"\"\"INSERT INTO exchange_rate VALUES(%s, %s)\"\"\"\n",
    "\n",
    "for record in rates_d[\"conversion_rates\"].items():\n",
    "    cursor.execute(sql6, [record[0], record[1]])\n"
   ]
  },
  {
   "cell_type": "code",
   "execution_count": null,
   "metadata": {},
   "outputs": [],
   "source": [
    "sql9 = \"\"\"select * from exchange_rate \"\"\"\n",
    "cursor.execute(sql9)\n",
    "for i in cursor.fetchall():\n",
    "    print(i)"
   ]
  },
  {
   "cell_type": "code",
   "execution_count": null,
   "metadata": {},
   "outputs": [],
   "source": [
    "sql10 = \"\"\"SELECT table_name, column_name, data_type \n",
    "           FROM information_schema.columns\n",
    "           WHERE table_name = 'exchange_rate'\"\"\"\n",
    "cursor.execute(sql10)\n",
    "for i in cursor.fetchall():\n",
    "    print(i)"
   ]
  }
 ],
 "metadata": {
  "kernelspec": {
   "display_name": "Python 3",
   "language": "python",
   "name": "python3"
  },
  "language_info": {
   "codemirror_mode": {
    "name": "ipython",
    "version": 3
   },
   "file_extension": ".py",
   "mimetype": "text/x-python",
   "name": "python",
   "nbconvert_exporter": "python",
   "pygments_lexer": "ipython3",
   "version": "3.8.3"
  }
 },
 "nbformat": 4,
 "nbformat_minor": 4
}
